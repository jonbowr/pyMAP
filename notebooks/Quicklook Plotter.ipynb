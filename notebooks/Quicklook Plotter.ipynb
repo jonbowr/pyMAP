{
 "cells": [
  {
   "cell_type": "markdown",
   "metadata": {},
   "source": [
    "# Quicklook Ploting IMAP-lo Cal Data"
   ]
  },
  {
   "cell_type": "code",
   "execution_count": 1,
   "metadata": {},
   "outputs": [],
   "source": [
    "import pandas as pd\n",
    "import pyMAP as pm\n",
    "%matplotlib notebook"
   ]
  },
  {
   "cell_type": "markdown",
   "metadata": {},
   "source": [
    "Load the as run and associated data Comment out remove unwanted tests when previewing"
   ]
  },
  {
   "cell_type": "code",
   "execution_count": 2,
   "metadata": {
    "scrolled": true
   },
   "outputs": [
    {
     "name": "stdout",
     "output_type": "stream",
     "text": [
      "Loading ../Test Data/csv\\EMV1_FunctionalTest_20221205_TOF_DE_sample.csv\n"
     ]
    },
    {
     "name": "stderr",
     "output_type": "stream",
     "text": [
      "C:\\Users\\Jonny Woof\\Google Drive\\Python_packages_woof\\pyMAP\\pyMAP\\data\\asrun\\asrun.py:22: DtypeWarning: Columns (0,1,2,3,4,5,6,7,8,9,10,11,12,13,14,15,16,17,18) have mixed types.Specify dtype option on import or set low_memory=False.\n",
      "  dats[str(rn)].append(load_dt(ff,dtype = dtype,**load_params))\n"
     ]
    },
    {
     "name": "stdout",
     "output_type": "stream",
     "text": [
      "Loading ../Test Data/csv\\EMv1_UNHSPLAT_ToF_Functional_12kV_MCP_Ramp_20221206_TOF_DE_sample.csv\n",
      "Loading ../Test Data/csv\\EMv1_UNHSPLAT_ToF_Functional_12kV_PaC_background_20221206_TOF_DE_sample.csv\n",
      "Loading ../Test Data/csv\\EMv1_UNHSPLAT_ToF_Functional_MCP_Gain_20221206_TOF_DE_sample.csv\n",
      "Loading ../Test Data/csv\\EMv1_UNHSPLAT_ToF_Functional_MCP_Gain2_20221206_TOF_DE_sample.csv\n",
      "Loading ../Test Data/csv\\EMv1_UNHSPLAT_ToF_Functional_threshold_20221206_TOF_DE_sample.csv\n",
      "Loading ../Test Data/csv\\EMv1_UNHSPLAT_TofFunctional_TofH2Spectra_20221206_TOF_DE_sample.csv\n",
      "Loading ../Test Data/csv\\EMv1_UNHSPLAT_TofFunctional_TofH2_10kVSpectra_20221206_TOF_DE_sample.csv\n",
      "Loading ../Test Data/csv\\EMV1_FunctionalTest_20221205_ILO_TOF_BD.csv\n",
      "Loading ../Test Data/csv\\EMv1_functional_test_20221205_ILO_TOF_BD.csv\n",
      "Loading ../Test Data/csv\\EMv1_UNHSPLAT_ToF_Functional_12kV_MCP_Ramp_20221206_ILO_TOF_BD.csv\n",
      "Loading ../Test Data/csv\\EMv1_UNHSPLAT_ToF_Functional_12kV_PaC_background_20221206_ILO_TOF_BD.csv\n",
      "Loading ../Test Data/csv\\EMv1_UNHSPLAT_ToF_Functional_MCP_Gain_20221206_ILO_TOF_BD.csv\n",
      "Loading ../Test Data/csv\\EMv1_UNHSPLAT_ToF_Functional_MCP_Gain2_20221206_ILO_TOF_BD.csv\n",
      "Loading ../Test Data/csv\\EMv1_UNHSPLAT_ToF_Functional_threshold_20221206_ILO_TOF_BD.csv\n",
      "Loading ../Test Data/csv\\EMv1_UNHSPLAT_TofFunctional_TofH2Spectra_20221206_ILO_TOF_BD.csv\n",
      "Loading ../Test Data/csv\\EMv1_UNHSPLAT_TofFunctional_TofH2_10kVSpectra_20221206_ILO_TOF_BD.csv\n",
      "Loading ../Test Data/csv\\EMV1_FunctionalTest_20221205_ILO_IFB.csv\n",
      "Loading ../Test Data/csv\\EMv1_functional_test_20221205_ILO_IFB.csv\n",
      "Loading ../Test Data/csv\\EMv1_UNHSPLAT_ToF_Functional_12kV_MCP_Ramp_20221206_ILO_IFB.csv\n",
      "Loading ../Test Data/csv\\EMv1_UNHSPLAT_ToF_Functional_12kV_PaC_background_20221206_ILO_IFB.csv\n",
      "Loading ../Test Data/csv\\EMv1_UNHSPLAT_ToF_Functional_MCP_Gain_20221206_ILO_IFB.csv\n",
      "Loading ../Test Data/csv\\EMv1_UNHSPLAT_ToF_Functional_MCP_Gain2_20221206_ILO_IFB.csv\n",
      "Loading ../Test Data/csv\\EMv1_UNHSPLAT_ToF_Functional_threshold_20221206_ILO_IFB.csv\n",
      "Loading ../Test Data/csv\\EMv1_UNHSPLAT_TofFunctional_TofH2Spectra_20221206_ILO_IFB.csv\n",
      "Loading ../Test Data/csv\\EMv1_UNHSPLAT_TofFunctional_TofH2_10kVSpectra_20221206_ILO_IFB.csv\n",
      "Loading ../../EM-ToF First Light Princeton/Test Data/csv\\EMV1_FLP_MCP_Ramp_20221116_TOF_DE_sample.csv\n"
     ]
    },
    {
     "name": "stderr",
     "output_type": "stream",
     "text": [
      "C:\\Users\\Jonny Woof\\Google Drive\\Python_packages_woof\\pyMAP\\pyMAP\\data\\asrun\\asrun.py:22: DtypeWarning: Columns (0,1,2,3,4,5,6,7,8,9,10,11,12,13,14,15,16,17,18) have mixed types.Specify dtype option on import or set low_memory=False.\n",
      "  dats[str(rn)].append(load_dt(ff,dtype = dtype,**load_params))\n"
     ]
    },
    {
     "name": "stdout",
     "output_type": "stream",
     "text": [
      "Loading ../../EM-ToF First Light Princeton/Test Data/csv\\EMV1_FLP_PAC_ramp_20221116_TOF_DE_sample.csv\n"
     ]
    },
    {
     "name": "stderr",
     "output_type": "stream",
     "text": [
      "C:\\Users\\Jonny Woof\\Google Drive\\Python_packages_woof\\pyMAP\\pyMAP\\data\\asrun\\asrun.py:22: DtypeWarning: Columns (0,1,2,3,4,5,6,7,8,9,10,11,12,13,14,15,16,17,18) have mixed types.Specify dtype option on import or set low_memory=False.\n",
      "  dats[str(rn)].append(load_dt(ff,dtype = dtype,**load_params))\n"
     ]
    },
    {
     "name": "stdout",
     "output_type": "stream",
     "text": [
      "Loading ../../EM-ToF First Light Princeton/Test Data/csv\\EMV1_FLP_PAC_ramp_20221116_TOF_DE_sample.csv\n"
     ]
    },
    {
     "name": "stderr",
     "output_type": "stream",
     "text": [
      "C:\\Users\\Jonny Woof\\Google Drive\\Python_packages_woof\\pyMAP\\pyMAP\\data\\asrun\\asrun.py:22: DtypeWarning: Columns (0,1,2,3,4,5,6,7,8,9,10,11,12,13,14,15,16,17,18) have mixed types.Specify dtype option on import or set low_memory=False.\n",
      "  dats[str(rn)].append(load_dt(ff,dtype = dtype,**load_params))\n"
     ]
    },
    {
     "name": "stdout",
     "output_type": "stream",
     "text": [
      "Loading ../../EM-ToF First Light Princeton/Test Data/csv\\EMV1_FLP_TOF_Spectra_20221116_TOF_DE_sample.csv\n",
      "Loading ../../EM-ToF First Light Princeton/Test Data/csv\\EMV1_FLP_MCP_Ramp_20221116_ILO_TOF_BD.csv\n",
      "Loading ../../EM-ToF First Light Princeton/Test Data/csv\\EMV1_FLP_PAC_ramp_20221116_ILO_TOF_BD.csv\n",
      "Loading ../../EM-ToF First Light Princeton/Test Data/csv\\EMV1_FLP_PAC_ramp_20221116_ILO_TOF_BD.csv\n",
      "Loading ../../EM-ToF First Light Princeton/Test Data/csv\\EMV1_FLP_TOF_Spectra_20221116_ILO_TOF_BD.csv\n",
      "Loading ../../EM-ToF First Light Princeton/Test Data/csv\\EMV1_FLP_MCP_Ramp_20221116_ILO_IFB.csv\n",
      "Loading ../../EM-ToF First Light Princeton/Test Data/csv\\EMV1_FLP_PAC_ramp_20221116_ILO_IFB.csv\n",
      "Loading ../../EM-ToF First Light Princeton/Test Data/csv\\EMV1_FLP_PAC_ramp_20221116_ILO_IFB.csv\n",
      "Loading ../../EM-ToF First Light Princeton/Test Data/csv\\EMV1_FLP_TOF_Spectra_20221116_ILO_IFB.csv\n",
      "Loading ../../EM-ToF First Light UNHSPLAT/Test Data/csv\\TOF06_spectra_UNH_SPLAT_20221121_TOF_DE_sample.csv\n"
     ]
    },
    {
     "name": "stderr",
     "output_type": "stream",
     "text": [
      "C:\\Users\\Jonny Woof\\Google Drive\\Python_packages_woof\\pyMAP\\pyMAP\\data\\asrun\\asrun.py:22: DtypeWarning: Columns (0,1,2,3,4,5,6,7,8,9,10,11,12,13,14,15,16,17,18) have mixed types.Specify dtype option on import or set low_memory=False.\n",
      "  dats[str(rn)].append(load_dt(ff,dtype = dtype,**load_params))\n"
     ]
    },
    {
     "name": "stdout",
     "output_type": "stream",
     "text": [
      "Loading ../../EM-ToF First Light UNHSPLAT/Test Data/csv\\TOF03_spectra_UNH_SPLAT_20221121_TOF_DE_sample.csv\n",
      "Loading ../../EM-ToF First Light UNHSPLAT/Test Data/csv\\TOF08_spectra_UNH_SPLAT_20221121_TOF_DE_sample.csv\n",
      "Loading ../../EM-ToF First Light UNHSPLAT/Test Data/csv\\EMV1_UNHSPLAT_FirstLight_PAC_Ramp_20221122_TOF_DE_sample.csv\n",
      "Loading ../../EM-ToF First Light UNHSPLAT/Test Data/csv\\TOF06_spectra_UNH_SPLAT_20221121_ILO_TOF_BD.csv\n",
      "Loading ../../EM-ToF First Light UNHSPLAT/Test Data/csv\\TOF03_spectra_UNH_SPLAT_20221121_ILO_TOF_BD.csv\n",
      "Loading ../../EM-ToF First Light UNHSPLAT/Test Data/csv\\TOF08_spectra_UNH_SPLAT_20221121_ILO_TOF_BD.csv\n",
      "Loading ../../EM-ToF First Light UNHSPLAT/Test Data/csv\\EMV1_UNHSPLAT_FirstLight_PAC_Ramp_20221122_ILO_TOF_BD.csv\n",
      "Loading ../../EM-ToF First Light UNHSPLAT/Test Data/csv\\TOF06_spectra_UNH_SPLAT_20221121_ILO_IFB.csv\n",
      "Loading ../../EM-ToF First Light UNHSPLAT/Test Data/csv\\TOF03_spectra_UNH_SPLAT_20221121_ILO_IFB.csv\n",
      "Loading ../../EM-ToF First Light UNHSPLAT/Test Data/csv\\TOF08_spectra_UNH_SPLAT_20221121_ILO_IFB.csv\n",
      "Loading ../../EM-ToF First Light UNHSPLAT/Test Data/csv\\EMV1_UNHSPLAT_FirstLight_PAC_Ramp_20221122_ILO_IFB.csv\n"
     ]
    }
   ],
   "source": [
    "test = [\n",
    "            'unhBeam',\n",
    "            'first_light_PSPL',\n",
    "            'first_light_splat'\n",
    "        ]\n",
    "\n",
    "runs = [\n",
    "            'AsRun.xlsx',\n",
    "            'AsRun.xlsx',\n",
    "            'EMv1_UNHSPLAT_FirstLight-AsRun.xlsx'\n",
    "        ]\n",
    "\n",
    "homes = [\n",
    "            '../',\n",
    "             '../../EM-ToF First Light Princeton/',\n",
    "             '../../EM-ToF First Light UNHSPLAT/'\n",
    "        ]\n",
    "\n",
    "pages = [ \n",
    "            ['Global','M145_beam','M145_system','ETU_tof'],\n",
    "            ['Global','ETU_tof'],\n",
    "            ['Global','M145_beam','M145_system','ETU_tof'],\n",
    "        ]\n",
    "\n",
    "dats = []\n",
    "for l,h,p,t in zip(runs,homes,pages,test):\n",
    "    d = pm.data.asrun.load(l,h,p)\n",
    "    d['test'] = t\n",
    "    dats.append(d)\n",
    "thing = pd.concat(dats,axis = 0).dropna(subset= ['dat_de','dat_tof','dat_ifb'],axis = 0)\n"
   ]
  },
  {
   "cell_type": "markdown",
   "metadata": {},
   "source": [
    "Run the quick look plotter"
   ]
  },
  {
   "cell_type": "code",
   "execution_count": 3,
   "metadata": {
    "scrolled": false
   },
   "outputs": [
    {
     "data": {
      "application/vnd.jupyter.widget-view+json": {
       "model_id": "1de4a600cd8a4920a8bc69d8111c9fe8",
       "version_major": 2,
       "version_minor": 0
      },
      "text/plain": [
       "VBox(children=(HBox(children=(SelectMultiple(description='PlotGroups', index=(0,), options=('date', 'time', 'r…"
      ]
     },
     "metadata": {},
     "output_type": "display_data"
    },
    {
     "data": {
      "application/vnd.jupyter.widget-view+json": {
       "model_id": "aec18ba931b54d2e9ace3e7a47ad2a53",
       "version_major": 2,
       "version_minor": 0
      },
      "text/plain": [
       "Button(description='Run Interact', style=ButtonStyle())"
      ]
     },
     "metadata": {},
     "output_type": "display_data"
    },
    {
     "data": {
      "application/vnd.jupyter.widget-view+json": {
       "model_id": "37ca9836dd394c60a2e241db4044f823",
       "version_major": 2,
       "version_minor": 0
      },
      "text/plain": [
       "Output()"
      ]
     },
     "metadata": {},
     "output_type": "display_data"
    }
   ],
   "source": [
    "pm.plt.group_plot(thing.reset_index())"
   ]
  },
  {
   "cell_type": "code",
   "execution_count": null,
   "metadata": {},
   "outputs": [],
   "source": []
  }
 ],
 "metadata": {
  "kernelspec": {
   "display_name": "Python 3",
   "language": "python",
   "name": "python3"
  },
  "language_info": {
   "codemirror_mode": {
    "name": "ipython",
    "version": 3
   },
   "file_extension": ".py",
   "mimetype": "text/x-python",
   "name": "python",
   "nbconvert_exporter": "python",
   "pygments_lexer": "ipython3",
   "version": "3.7.8"
  }
 },
 "nbformat": 4,
 "nbformat_minor": 2
}
