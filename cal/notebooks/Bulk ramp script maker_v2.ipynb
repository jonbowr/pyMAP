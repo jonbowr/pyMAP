{
 "cells": [
  {
   "cell_type": "code",
   "execution_count": 2,
   "id": "0e4e937c",
   "metadata": {},
   "outputs": [],
   "source": [
    "import pandas as pd"
   ]
  },
  {
   "cell_type": "code",
   "execution_count": 63,
   "id": "596abe47",
   "metadata": {},
   "outputs": [],
   "source": [
    "def make_arbStep(estep,filename,scale = pd.Series(1.2**(np.linspace(-4,4,9))),mode = 'HiTH'):\n",
    "    volt_step = {'HiTH':pd.DataFrame({'U+':[61.91,119.41,229.42,451.48,870.61,1782.40,3452],\n",
    "                            'U-':[30.55,58.92,113.19,222.75,429.54,879.40,1701]}),\n",
    "                 'HiRes':pd.DataFrame({'U+':[40.30,77.73,149.34,293.89,566.72,1160.24,2248.26],\n",
    "                            'U-':[13.65,26.33,50.59,99.56,191.98,393.03,761.60]})}\n",
    "    \n",
    "    things = volt_step[mode].loc[estep-1].apply(lambda x: x*scale)\n",
    "#     return(things)\n",
    "    maxN = 1701\n",
    "    maxP = 3452\n",
    "    \n",
    "    #GSEOS lims\n",
    "    # 1701.69\n",
    "    # 3462.36\n",
    "    close_neg = abs(things.T['U-']-maxN)<10\n",
    "    things.loc['U-',close_neg] = maxN\n",
    "    close_pos = abs(things.T['U+']-maxP)<10\n",
    "    things.loc['U+',close_pos] = maxP\n",
    "    \n",
    "    locr = (things.T['U-']<=maxN)&(things.T['U+']<=maxP)\n",
    "    things = things.T.loc[locr].T\n",
    "\n",
    "    fup = lambda volt: 'send ILO_ESA_P_RMP(TARGET = %.2f,STEPS = 3447,DWELL = %d)'%(volt,0)\n",
    "    fdn =lambda volt: 'send ILO_ESA_N_RMP(TARGET = %.2f,STEPS = 1699,DWELL = %d)'%(volt,0)\n",
    "\n",
    "    cmds = things.apply(lambda x :'\\n'.join([fup(x['U+']),fdn(x['U-'])]))\n",
    "    \n",
    "    cmds[0] = cmds[0]+'\\n\\nmsgbox info \"wait here until ready\"'\n",
    "\n",
    "    \n",
    "    with open(filename,'w') as f: \n",
    "        \n",
    "        f.write('script %s() \\nbegin\\n#>>> from Gseos import PlaySound\\nWaitTime = ask \"Enter collection time in seconds\"\\n'%filename.replace('.gstol',''))\n",
    "        cmds.apply(lambda x: f.write('\\n%s \\nwait timeout $WaitTime\\n'%(x)))\n",
    "        f.write(r'# >>> PlaySound(\"C:\\IMAP\\Instruments\\Common\\Sounds\\Time to die.wav\")')\n",
    "        f.write('\\nend')\n",
    "        f.close()"
   ]
  },
  {
   "cell_type": "code",
   "execution_count": 64,
   "id": "21119901",
   "metadata": {},
   "outputs": [],
   "source": [
    "estep_norm =pd.Series([0.0347,0.0670,0.1287,0.2533,0.4884,1.0000,1.935])"
   ]
  },
  {
   "cell_type": "code",
   "execution_count": 65,
   "id": "1fe51776",
   "metadata": {},
   "outputs": [],
   "source": [
    "make_arbStep(6,'DER2_HiTh_Esteps.gstol',estep_norm,'HiTH')\n",
    "make_arbStep(6,'DER2_HiRes_Esteps.gstol',estep_norm,'HiRes')"
   ]
  },
  {
   "cell_type": "code",
   "execution_count": 66,
   "id": "67cad16d",
   "metadata": {},
   "outputs": [],
   "source": [
    "for i in range(1,8):\n",
    "    stuff = make_arbStep(i,'DER1_HiTh_estep%d_v2.gstol'%i,scale = pd.Series(1.2**(np.arange(-4,8))),mode = 'HiTH')\n",
    "    stuff = make_arbStep(i,'DER1_HiRes_estep%d_v2.gstol'%i,scale = pd.Series(1.1**(np.arange(-4,8))),mode = 'HiRes')"
   ]
  },
  {
   "cell_type": "code",
   "execution_count": 67,
   "id": "ec920979",
   "metadata": {},
   "outputs": [
    {
     "data": {
      "text/plain": [
       "array([-4., -3., -2., -1.,  0.,  1.,  2.,  3.,  4.])"
      ]
     },
     "execution_count": 67,
     "metadata": {},
     "output_type": "execute_result"
    }
   ],
   "source": [
    "np.linspace(-4,4,9)"
   ]
  },
  {
   "cell_type": "code",
   "execution_count": null,
   "id": "2fb0c68e",
   "metadata": {},
   "outputs": [],
   "source": []
  }
 ],
 "metadata": {
  "kernelspec": {
   "display_name": "Python 3 (ipykernel)",
   "language": "python",
   "name": "python3"
  },
  "language_info": {
   "codemirror_mode": {
    "name": "ipython",
    "version": 3
   },
   "file_extension": ".py",
   "mimetype": "text/x-python",
   "name": "python",
   "nbconvert_exporter": "python",
   "pygments_lexer": "ipython3",
   "version": "3.10.9"
  }
 },
 "nbformat": 4,
 "nbformat_minor": 5
}
