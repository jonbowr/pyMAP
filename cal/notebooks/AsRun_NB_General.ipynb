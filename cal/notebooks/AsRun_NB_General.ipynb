{
 "cells": [
  {
   "cell_type": "markdown",
   "id": "ea691921",
   "metadata": {},
   "source": [
    "# NOTEBOOK TITLE\n",
    "\n",
    "Notebook description\n",
    "\n",
    "---\n",
    "Date   \n",
    "jonathan bower   \n",
    "jonathan.bower@unh.edu\n",
    "\n",
    "---\n",
    "\n",
    "## Conclusion\n",
    "\n",
    "\n",
    "## Overview\n",
    "\n",
    "\n",
    "## Analysis"
   ]
  },
  {
   "cell_type": "code",
   "execution_count": 1,
   "id": "20d414cd",
   "metadata": {},
   "outputs": [],
   "source": [
    "import pandas as pd\n",
    "import pyMAP as pm\n",
    "%matplotlib notebook"
   ]
  },
  {
   "cell_type": "code",
   "execution_count": 3,
   "id": "bf3e922f",
   "metadata": {},
   "outputs": [
    {
     "name": "stdout",
     "output_type": "stream",
     "text": [
      "ILO_IFB\n",
      "ILO_TOF_BD\n",
      "ILO_APP_NHK\n",
      "ILO_RAW_CNT\n",
      "ILO_RAW_DE\n",
      "DE_rates\n",
      "ABM-Counts\n",
      "ABM-Counts2\n",
      "Ion-Source-Operate\n",
      "System-Monitoring-Log\n",
      "Unnamed: 38\n",
      "PSPL_abm_abs_mean_cnt\n",
      "file_abm_1\n",
      "file_abm_2\n",
      "jb_abm1_IN CEM Rate\n",
      "jb_abm1_OUT CEM Rate\n",
      "jb_abm1_COIN Rate\n",
      "jb_abm1_dT\n",
      "jb_abm1_abs_mean\n",
      "jb_abm1_effic\n",
      "jb_abm2_IN CEM Rate\n",
      "jb_abm2_OUT CEM Rate\n",
      "jb_abm2_COIN Rate\n",
      "jb_abm2_dT\n",
      "jb_abm2_abs_mean\n",
      "jb_abm2_effic\n",
      "T_start_ILO_IFB\n",
      "T_stop_ILO_IFB\n",
      "T_start_ILO_APP_NHK\n",
      "T_stop_ILO_APP_NHK\n",
      "T_start_ILO_TOF_BD\n",
      "T_stop_ILO_TOF_BD\n"
     ]
    }
   ],
   "source": [
    "asrun = pm.data.asRunr('../FMv3_T105_PSPL_FinalCal_AsRun.xlsx',\n",
    "                       '../Test Data/Sensor/',\n",
    "                           page_names = ['TOF','FM_optics',\n",
    "                                         'Princeton_PSPL',\n",
    "                                                    ],instrument = 'imap_lo_fm')\n",
    "asrun.load_dat()\n",
    "asrun.refresh()"
   ]
  },
  {
   "cell_type": "code",
   "execution_count": null,
   "id": "f191a358",
   "metadata": {},
   "outputs": [],
   "source": [
    "asrun.mask(asrun.df['Activity'].str.lower().str.contains('roll'))"
   ]
  }
 ],
 "metadata": {
  "kernelspec": {
   "display_name": "Python 3 (ipykernel)",
   "language": "python",
   "name": "python3"
  },
  "language_info": {
   "codemirror_mode": {
    "name": "ipython",
    "version": 3
   },
   "file_extension": ".py",
   "mimetype": "text/x-python",
   "name": "python",
   "nbconvert_exporter": "python",
   "pygments_lexer": "ipython3",
   "version": "3.10.9"
  }
 },
 "nbformat": 4,
 "nbformat_minor": 5
}
