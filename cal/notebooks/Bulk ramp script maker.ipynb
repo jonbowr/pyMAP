{
 "cells": [
  {
   "cell_type": "code",
   "execution_count": 1,
   "id": "0e4e937c",
   "metadata": {},
   "outputs": [],
   "source": [
    "import pandas as pd"
   ]
  },
  {
   "cell_type": "code",
   "execution_count": 2,
   "id": "596abe47",
   "metadata": {},
   "outputs": [],
   "source": [
    "def make_arbStep(estep,dwell,filename,scale = pd.Series(1.2**(np.linspace(-4,4,9))),mode = 'HiTH'):\n",
    "    volt_step = {'HiTH':pd.DataFrame({'U+':[61.91,119.41,229.42,451.48,870.61,1782.40,3452],\n",
    "                            'U-':[30.55,58.92,113.19,222.75,429.54,879.40,1701]}),\n",
    "                 'HiRes':pd.DataFrame({'U+':[40.30,77.73,149.34,293.89,566.72,1160.24,2248.26],\n",
    "                            'U-':[13.65,26.33,50.59,99.56,191.98,393.03,761.60]})}\n",
    "    \n",
    "    things = volt_step[mode].loc[estep-1].apply(lambda x: x*scale)\n",
    "    \n",
    "    maxN = 1702\n",
    "    maxP = 3454\n",
    "    locr = (things.T['U-']<maxN)&(things.T['U+']<maxP)\n",
    "    things = things.T.loc[locr].T\n",
    "\n",
    "    fup = lambda volt: 'send ILO_ESA_P_RMP(TARGET = %.2f,STEPS = 3447,DWELL = %d)'%(volt,0)\n",
    "    fdn =lambda volt: 'send ILO_ESA_N_RMP(TARGET = %.2f,STEPS = 1700,DWELL = %d)'%(volt,0)\n",
    "\n",
    "    cmds = things.apply(lambda x :'\\n'.join([fup(x['U+']),fdn(x['U-'])]))\n",
    "    \n",
    "    with open(filename,'w') as f: \n",
    "        f.write('script %s() \\nbegin'%filename.strip('.gstol'))\n",
    "        cmds.apply(lambda x: f.write('\\n%s \\nwait timeout %d\\n'%(x,dwell)))\n",
    "        f.write('end')\n",
    "        f.close()"
   ]
  },
  {
   "cell_type": "code",
   "execution_count": 3,
   "id": "21119901",
   "metadata": {},
   "outputs": [],
   "source": [
    "estep_norm =pd.Series([0.0347,0.0670,0.1287,0.2533,0.4884,1.0000,1.935])"
   ]
  },
  {
   "cell_type": "code",
   "execution_count": 15,
   "id": "1fe51776",
   "metadata": {},
   "outputs": [],
   "source": [
    "make_arbStep(6,1000,'DER2_HiTh_Esteps.gstol',estep_norm,'HiTH')\n",
    "make_arbStep(6,1000,'DER2_HiRes_Esteps.gstol',estep_norm,'HiRes')"
   ]
  },
  {
   "cell_type": "code",
   "execution_count": 16,
   "id": "67cad16d",
   "metadata": {},
   "outputs": [],
   "source": [
    "for i in range(1,8):\n",
    "    stuff = make_arbStep(i,1000,'DER1_HiTh_estep%d.gstol'%i,scale = pd.Series(1.2**(np.linspace(-4,4,9))),mode = 'HiTH')\n",
    "    stuff = make_arbStep(i,1000,'DER1_HiRes_estep%d.gstol'%i,scale = pd.Series(1.1**(np.linspace(-4,4,9))),mode = 'HiRes')"
   ]
  }
 ],
 "metadata": {
  "kernelspec": {
   "display_name": "Python 3 (ipykernel)",
   "language": "python",
   "name": "python3"
  },
  "language_info": {
   "codemirror_mode": {
    "name": "ipython",
    "version": 3
   },
   "file_extension": ".py",
   "mimetype": "text/x-python",
   "name": "python",
   "nbconvert_exporter": "python",
   "pygments_lexer": "ipython3",
   "version": "3.10.9"
  }
 },
 "nbformat": 4,
 "nbformat_minor": 5
}
