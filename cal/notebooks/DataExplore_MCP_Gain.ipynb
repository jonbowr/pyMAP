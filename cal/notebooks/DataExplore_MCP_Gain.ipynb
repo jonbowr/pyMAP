{
 "cells": [
  {
   "cell_type": "markdown",
   "metadata": {},
   "source": [
    "# Basic Thing to Plot the MCP gain curves"
   ]
  },
  {
   "cell_type": "code",
   "execution_count": 1,
   "metadata": {},
   "outputs": [],
   "source": [
    "import pandas as pd\n",
    "import pyMAP as pm\n",
    "%matplotlib notebook"
   ]
  },
  {
   "cell_type": "markdown",
   "metadata": {},
   "source": [
    "Define function to load all data of the desired type from repo"
   ]
  },
  {
   "cell_type": "code",
   "execution_count": 2,
   "metadata": {},
   "outputs": [],
   "source": [
    "def all_data(csv_repo,dat_load = ['ILO_IFB','ILO_TOF_BD','ILO_RAW_CNT','TOF_DE_sample']):\n",
    "    # Separately load each data file and accumulate to master data frame\n",
    "    stuff = pd.concat([pm.data.load(csv_repo,\n",
    "                dtype = dt) for dt in dat_load],\n",
    "                      axis =1,sort = True).reset_index().drop_duplicates(subset = 'name').set_index('name')\n",
    "    return(stuff)\n",
    "\n",
    "def integrate_dat(stuff,rebase = 'TOF_DE_sample',integrate = []):\n",
    "    stuff['dat'] = stuff.apply(lambda x: x[rebase].join(x[integrate].values).interpolate(axis =0),axis = 1)\n",
    "    return(stuff)"
   ]
  },
  {
   "cell_type": "code",
   "execution_count": 3,
   "metadata": {
    "scrolled": true
   },
   "outputs": [
    {
     "name": "stdout",
     "output_type": "stream",
     "text": [
      "Loading ../Test Data/Sensor/csv/20230107\\EMv1-Princeton-20230107-v10-rampdownlbeam_ILO_IFB_20230108T023507_.csv\n",
      "Loading ../Test Data/Sensor/csv/20230107\\EMv1-Princeton-20230107-v11-rampdownmcpnobeam_ILO_IFB_20230108T041144_.csv\n",
      "Loading ../Test Data/Sensor/csv/20230107\\EMv1-Princeton-20230107-v2_ILO_IFB_20230107T162547_.csv\n",
      "Loading ../Test Data/Sensor/csv/20230107\\EMv1-Princeton-20230107-v3_ILO_IFB_20230107T165001_.csv\n",
      "Loading ../Test Data/Sensor/csv/20230107\\EMv1-Princeton-20230107-v4-dark-cnt_ILO_IFB_20230107T231024_.csv\n",
      "Loading ../Test Data/Sensor/csv/20230107\\EMv1-Princeton-20230107-v5_ILO_IFB_20230107T234534_.csv\n",
      "Loading ../Test Data/Sensor/csv/20230107\\EMv1-Princeton-20230107-v6-gainiongauge_ILO_IFB_20230107T235809_.csv\n",
      "Loading ../Test Data/Sensor/csv/20230107\\EMv1-Princeton-20230107-v7-rampdowniongauge_ILO_IFB_20230108T005832_.csv\n",
      "Loading ../Test Data/Sensor/csv/20230107\\EMv1-Princeton-20230107-v8-gainbeam_ILO_IFB_20230108T012952_.csv\n",
      "Loading ../Test Data/Sensor/csv/20230107\\EMv1-Princeton-20230107-v9-dwellbeam_ILO_IFB_20230108T015817_.csv\n",
      "Loading ../Test Data/Sensor/csv/20230107\\EMv1-Princeton-20230107_ILO_IFB_20230107T143400_.csv\n",
      "Loading ../Test Data/Sensor/csv/20230108\\EMv1-Princeton-20230108-beam2MCPgainPAC5k-TH50_ILO_IFB_20230108T193125_.csv\n",
      "Loading ../Test Data/Sensor/csv/20230108\\EMv1-Princeton-20230108-beam2MCPPAC5kdwell-TH50_ILO_IFB_20230108T201358_.csv\n",
      "Loading ../Test Data/Sensor/csv/20230108\\EMv1-Princeton-20230108-beam2MCPsPACRampUp-TH50_ILO_IFB_20230108T191328_.csv\n",
      "Loading ../Test Data/Sensor/csv/20230108\\EMv1-Princeton-20230108-beam2MCPsRampDownNoPAC-TH50ILO_IFB_20230108T190013_.csv\n",
      "Loading ../Test Data/Sensor/csv/20230108\\EMv1-Princeton-20230108-beam2MCPsUpNoPAC-TH35ILO_IFB_20230108T184553_.csv\n",
      "Loading ../Test Data/Sensor/csv/20230108\\EMv1-Princeton-20230108-beam2MCPsUpNoPAC-TH40ILO_IFB_20230108T183923_.csv\n",
      "Loading ../Test Data/Sensor/csv/20230108\\EMv1-Princeton-20230108-beam2MCPsUpNoPAC-TH50ILO_IFB_20230108T181340_.csv\n",
      "Loading ../Test Data/Sensor/csv/20230108\\EMv1-Princeton-20230108-ig2MCPPAC5kdwell-TH50_ILO_IFB_20230108T204100_.csv\n",
      "Loading ../Test Data/Sensor/csv/20230108\\EMv1-Princeton-20230108-MCPgainbeam2noPAC_ILO_IFB_20230108T155213_.csv\n",
      "Loading ../Test Data/Sensor/csv/20230108\\EMv1-Princeton-20230108-MCPgainbeam2noPAC_ILO_IFB_20230108T162748_.csv\n",
      "Loading ../Test Data/Sensor/csv/20230108\\EMv1-Princeton-20230108-v12-MCPRampPAC7k_ILO_IFB_20230108T212025_.csv\n",
      "Loading ../Test Data/Sensor/csv/20230108\\EMv1-Princeton-20230108-v12-PACRamp_ILO_IFB_20230108T211608_.csv\n",
      "Loading ../Test Data/Sensor/csv/20230108\\EMv1-Princeton-20230108-v12_ILO_IFB_20230108T210329_.csv\n",
      "Loading ../Test Data/Sensor/csv/20230107\\EMv1-Princeton-20230107-v10-rampdownlbeam_ILO_TOF_BD_20230108T023507_.csv\n",
      "Loading ../Test Data/Sensor/csv/20230107\\EMv1-Princeton-20230107-v11-rampdownmcpnobeam_ILO_TOF_BD_20230108T041144_.csv\n",
      "Loading ../Test Data/Sensor/csv/20230107\\EMv1-Princeton-20230107-v2_ILO_TOF_BD_20230107T162547_.csv\n",
      "Loading ../Test Data/Sensor/csv/20230107\\EMv1-Princeton-20230107-v3_ILO_TOF_BD_20230107T165001_.csv\n",
      "Loading ../Test Data/Sensor/csv/20230107\\EMv1-Princeton-20230107-v4-dark-cnt_ILO_TOF_BD_20230107T231024_.csv\n",
      "Loading ../Test Data/Sensor/csv/20230107\\EMv1-Princeton-20230107-v5_ILO_TOF_BD_20230107T234534_.csv\n",
      "Loading ../Test Data/Sensor/csv/20230107\\EMv1-Princeton-20230107-v6-gainiongauge_ILO_TOF_BD_20230107T235809_.csv\n",
      "Loading ../Test Data/Sensor/csv/20230107\\EMv1-Princeton-20230107-v7-rampdowniongauge_ILO_TOF_BD_20230108T005832_.csv\n",
      "Loading ../Test Data/Sensor/csv/20230107\\EMv1-Princeton-20230107-v8-gainbeam_ILO_TOF_BD_20230108T012952_.csv\n",
      "Loading ../Test Data/Sensor/csv/20230107\\EMv1-Princeton-20230107-v9-dwellbeam_ILO_TOF_BD_20230108T015817_.csv\n",
      "Loading ../Test Data/Sensor/csv/20230107\\EMv1-Princeton-20230107_ILO_TOF_BD_20230107T143400_.csv\n",
      "Loading ../Test Data/Sensor/csv/20230108\\EMv1-Princeton-20230108-beam2MCPgainPAC5k-TH50_ILO_TOF_BD_20230108T193125_.csv\n",
      "Loading ../Test Data/Sensor/csv/20230108\\EMv1-Princeton-20230108-beam2MCPPAC5kdwell-TH50_ILO_TOF_BD_20230108T201358_.csv\n",
      "Loading ../Test Data/Sensor/csv/20230108\\EMv1-Princeton-20230108-beam2MCPsPACRampUp-TH50_ILO_TOF_BD_20230108T191328_.csv\n",
      "Loading ../Test Data/Sensor/csv/20230108\\EMv1-Princeton-20230108-beam2MCPsRampDownNoPAC-TH50ILO_TOF_BD_20230108T190013_.csv\n",
      "Loading ../Test Data/Sensor/csv/20230108\\EMv1-Princeton-20230108-beam2MCPsUpNoPAC-TH35ILO_TOF_BD_20230108T184553_.csv\n",
      "Loading ../Test Data/Sensor/csv/20230108\\EMv1-Princeton-20230108-beam2MCPsUpNoPAC-TH40ILO_TOF_BD_20230108T183923_.csv\n",
      "Loading ../Test Data/Sensor/csv/20230108\\EMv1-Princeton-20230108-beam2MCPsUpNoPAC-TH50ILO_TOF_BD_20230108T181340_.csv\n",
      "Loading ../Test Data/Sensor/csv/20230108\\EMv1-Princeton-20230108-ig2MCPPAC5kdwell-TH50_ILO_TOF_BD_20230108T204100_.csv\n",
      "Loading ../Test Data/Sensor/csv/20230108\\EMv1-Princeton-20230108-MCPgainbeam2noPAC_ILO_TOF_BD_20230108T155213_.csv\n",
      "Loading ../Test Data/Sensor/csv/20230108\\EMv1-Princeton-20230108-MCPgainbeam2noPAC_ILO_TOF_BD_20230108T162748_.csv\n",
      "Loading ../Test Data/Sensor/csv/20230108\\EMv1-Princeton-20230108-v12-MCPRampPAC7k_ILO_TOF_BD_20230108T212025_.csv\n",
      "Loading ../Test Data/Sensor/csv/20230108\\EMv1-Princeton-20230108-v12-PACRamp_ILO_TOF_BD_20230108T211608_.csv\n",
      "Loading ../Test Data/Sensor/csv/20230108\\EMv1-Princeton-20230108-v12_ILO_TOF_BD_20230108T210329_.csv\n",
      "Loading ../Test Data/Sensor/csv/20230107\\EMv1-Princeton-20230107-v10-rampdownlbeam_ILO_RAW_CNT_20230108T023507_.csv\n",
      "Loading ../Test Data/Sensor/csv/20230107\\EMv1-Princeton-20230107-v11-rampdownmcpnobeam_ILO_RAW_CNT_20230108T041143_.csv\n",
      "Loading ../Test Data/Sensor/csv/20230107\\EMv1-Princeton-20230107-v2_ILO_RAW_CNT_20230107T162954_.csv\n",
      "Loading ../Test Data/Sensor/csv/20230107\\EMv1-Princeton-20230107-v3_ILO_RAW_CNT_20230107T165001_.csv\n",
      "Loading ../Test Data/Sensor/csv/20230107\\EMv1-Princeton-20230107-v4-dark-cnt_ILO_RAW_CNT_20230107T231023_.csv\n",
      "Loading ../Test Data/Sensor/csv/20230107\\EMv1-Princeton-20230107-v5_ILO_RAW_CNT_20230107T234533_.csv\n",
      "Loading ../Test Data/Sensor/csv/20230107\\EMv1-Princeton-20230107-v6-gainiongauge_ILO_RAW_CNT_20230107T235808_.csv\n",
      "Loading ../Test Data/Sensor/csv/20230107\\EMv1-Princeton-20230107-v7-rampdowniongauge_ILO_RAW_CNT_20230108T005831_.csv\n",
      "Loading ../Test Data/Sensor/csv/20230107\\EMv1-Princeton-20230107-v8-gainbeam_ILO_RAW_CNT_20230108T012950_.csv\n",
      "Loading ../Test Data/Sensor/csv/20230107\\EMv1-Princeton-20230107-v9-dwellbeam_ILO_RAW_CNT_20230108T015815_.csv\n",
      "Loading ../Test Data/Sensor/csv/20230107\\EMv1-Princeton-20230107_ILO_RAW_CNT_20230107T145004_.csv\n",
      "Loading ../Test Data/Sensor/csv/20230108\\EMv1-Princeton-20230108-beam2MCPgainPAC5k-TH50_ILO_RAW_CNT_20230108T193124_.csv\n",
      "Loading ../Test Data/Sensor/csv/20230108\\EMv1-Princeton-20230108-beam2MCPPAC5kdwell-TH50_ILO_RAW_CNT_20230108T201357_.csv\n",
      "Loading ../Test Data/Sensor/csv/20230108\\EMv1-Princeton-20230108-beam2MCPsPACRampUp-TH50_ILO_RAW_CNT_20230108T191326_.csv\n",
      "Loading ../Test Data/Sensor/csv/20230108\\EMv1-Princeton-20230108-beam2MCPsRampDownNoPAC-TH50ILO_RAW_CNT_20230108T190011_.csv\n",
      "Loading ../Test Data/Sensor/csv/20230108\\EMv1-Princeton-20230108-beam2MCPsUpNoPAC-TH35ILO_RAW_CNT_20230108T184552_.csv\n",
      "Loading ../Test Data/Sensor/csv/20230108\\EMv1-Princeton-20230108-beam2MCPsUpNoPAC-TH40ILO_RAW_CNT_20230108T183922_.csv\n",
      "Loading ../Test Data/Sensor/csv/20230108\\EMv1-Princeton-20230108-beam2MCPsUpNoPAC-TH50ILO_RAW_CNT_20230108T181339_.csv\n",
      "Loading ../Test Data/Sensor/csv/20230108\\EMv1-Princeton-20230108-ig2MCPPAC5kdwell-TH50_ILO_RAW_CNT_20230108T204100_.csv\n",
      "Loading ../Test Data/Sensor/csv/20230108\\EMv1-Princeton-20230108-MCPgainbeam2noPAC_ILO_RAW_CNT_20230108T155929_.csv\n",
      "Loading ../Test Data/Sensor/csv/20230108\\EMv1-Princeton-20230108-MCPgainbeam2noPAC_ILO_RAW_CNT_20230108T163756_.csv\n",
      "Loading ../Test Data/Sensor/csv/20230108\\EMv1-Princeton-20230108-v12-MCPRampPAC7k_ILO_RAW_CNT_20230108T212024_.csv\n",
      "Loading ../Test Data/Sensor/csv/20230108\\EMv1-Princeton-20230108-v12-PACRamp_ILO_RAW_CNT_20230108T211608_.csv\n",
      "Loading ../Test Data/Sensor/csv/20230108\\EMv1-Princeton-20230108-v12_ILO_RAW_CNT_20230108T210329_.csv\n"
     ]
    }
   ],
   "source": [
    "df = all_data('../Test Data/Sensor/csv/',['ILO_IFB','ILO_TOF_BD','ILO_RAW_CNT'])"
   ]
  },
  {
   "cell_type": "code",
   "execution_count": 4,
   "metadata": {},
   "outputs": [],
   "source": [
    "df = integrate_dat(df,rebase = 'ILO_RAW_CNT',integrate = ['ILO_IFB','ILO_TOF_BD'])"
   ]
  },
  {
   "cell_type": "markdown",
   "metadata": {},
   "source": [
    "# Plot The count rate and efficiency variation for Desired MCP Gain Test\n",
    "\n",
    "select desired run"
   ]
  },
  {
   "cell_type": "code",
   "execution_count": 25,
   "metadata": {},
   "outputs": [],
   "source": [
    "def multi_val(df,runs = [],x = 'MCP_VSET',\n",
    "                  yplt = ['TOF0','TOF1','TOF2','TOF3','SILVER'],smooth = 1):\n",
    "    # Combines runs and and plots multiple yplt values\n",
    "\n",
    "    dat = df.T[runs].T['dat']\n",
    "    fig,ax = plt.subplots()\n",
    "    for y in yplt:\n",
    "#         ax.plot(dat.set_index(x).sort_index()[y].rolling(smooth).median(),label = y)\n",
    "        ax.plot(dat.groupby(x).median().sort_index()[y].rolling(smooth).mean(),label = y)\n",
    "    ax.set_xlabel(x)\n",
    "    pm.bowPy.plotJon.legend.legend_loc(fig,ax,location = 'right')\n",
    "    return(fig,ax)"
   ]
  },
  {
   "cell_type": "markdown",
   "metadata": {},
   "source": [
    "Combine both runs and plot all efficiencies"
   ]
  },
  {
   "cell_type": "code",
   "execution_count": 22,
   "metadata": {},
   "outputs": [],
   "source": [
    "mcp_tags = []\n",
    "for l in list(df['dat'][0].keys()):\n",
    "    if 'mcp' in l.lower():\n",
    "        mcp_tags.append(l)"
   ]
  },
  {
   "cell_type": "code",
   "execution_count": 28,
   "metadata": {
    "scrolled": false
   },
   "outputs": [
    {
     "data": {
      "application/vnd.jupyter.widget-view+json": {
       "model_id": "bced98d0b16a4df4a6bffee2dc0f3214",
       "version_major": 2,
       "version_minor": 0
      },
      "text/plain": [
       "interactive(children=(Dropdown(description='dat_nam', options=('emv1-princeton-20230107-v10-rampdownlbeam_', '…"
      ]
     },
     "metadata": {},
     "output_type": "display_data"
    }
   ],
   "source": [
    "from ipywidgets import *\n",
    "def plot_data(dat_nam = list(df.index),\n",
    "              xplt = mcp_tags,\n",
    "             smooth = FloatSlider(min = 1, max = 100)):\n",
    "    plt.close('all')\n",
    "    plt_grps = {'tof_rate[cts/s]':['TOF0','TOF1','TOF2','TOF3','SILVER'],\n",
    "                    'single_rates [cts/s]':['START_A', 'START_C', 'STOP_B0', 'STOP_B3'],\n",
    "                    'Efficiency':['Eff_A','Eff_B','Eff_C','Eff_TRIP']} \n",
    "    axss = []\n",
    "    print(dat_nam)\n",
    "    for lab,vals in plt_grps.items():\n",
    "        fig,ax = multi_val(df,\n",
    "                           runs = dat_nam,\n",
    "                           x = xplt,\n",
    "                           yplt = vals,\n",
    "                           smooth = int(smooth))\n",
    "        ax.set_ylabel(lab)\n",
    "        axss.append(ax)\n",
    "        ax.semilogy()\n",
    "        ax.set_xlim(2300,3500)\n",
    "    \n",
    "interactive(plot_data,{'manual':True})"
   ]
  },
  {
   "cell_type": "code",
   "execution_count": 29,
   "metadata": {
    "scrolled": false
   },
   "outputs": [
    {
     "data": {
      "application/vnd.jupyter.widget-view+json": {
       "model_id": "e6912b52f7884da4aa17256c8467eb04",
       "version_major": 2,
       "version_minor": 0
      },
      "text/plain": [
       "interactive(children=(Dropdown(description='dat_nam', options=('emv1-princeton-20230107-v10-rampdownlbeam_', '…"
      ]
     },
     "metadata": {},
     "output_type": "display_data"
    }
   ],
   "source": [
    "interactive(plot_data,{'manual':True})"
   ]
  },
  {
   "cell_type": "code",
   "execution_count": 30,
   "metadata": {
    "scrolled": false
   },
   "outputs": [
    {
     "data": {
      "application/vnd.jupyter.widget-view+json": {
       "model_id": "3051911e7f6c4b2897e45e83c21c0d40",
       "version_major": 2,
       "version_minor": 0
      },
      "text/plain": [
       "interactive(children=(Dropdown(description='dat_nam', options=('emv1-princeton-20230107-v10-rampdownlbeam_', '…"
      ]
     },
     "metadata": {},
     "output_type": "display_data"
    }
   ],
   "source": [
    "interactive(plot_data,{'manual':True})"
   ]
  },
  {
   "cell_type": "code",
   "execution_count": 31,
   "metadata": {
    "scrolled": false
   },
   "outputs": [
    {
     "data": {
      "application/vnd.jupyter.widget-view+json": {
       "model_id": "7d7474799e964fd193fdd9ae6d9ab433",
       "version_major": 2,
       "version_minor": 0
      },
      "text/plain": [
       "interactive(children=(Dropdown(description='dat_nam', options=('emv1-princeton-20230107-v10-rampdownlbeam_', '…"
      ]
     },
     "metadata": {},
     "output_type": "display_data"
    }
   ],
   "source": [
    "interactive(plot_data,{'manual':True})"
   ]
  },
  {
   "cell_type": "code",
   "execution_count": 32,
   "metadata": {
    "scrolled": true
   },
   "outputs": [
    {
     "data": {
      "application/vnd.jupyter.widget-view+json": {
       "model_id": "1b066facd95943c7ba0a409df6900b1d",
       "version_major": 2,
       "version_minor": 0
      },
      "text/plain": [
       "interactive(children=(Dropdown(description='dat_nam', options=('emv1-princeton-20230107-v10-rampdownlbeam_', '…"
      ]
     },
     "metadata": {},
     "output_type": "display_data"
    }
   ],
   "source": [
    "interactive(plot_data,{'manual':True})"
   ]
  },
  {
   "cell_type": "code",
   "execution_count": null,
   "metadata": {},
   "outputs": [],
   "source": []
  }
 ],
 "metadata": {
  "kernelspec": {
   "display_name": "Python 3 (ipykernel)",
   "language": "python",
   "name": "python3"
  },
  "language_info": {
   "codemirror_mode": {
    "name": "ipython",
    "version": 3
   },
   "file_extension": ".py",
   "mimetype": "text/x-python",
   "name": "python",
   "nbconvert_exporter": "python",
   "pygments_lexer": "ipython3",
   "version": "3.7.8"
  }
 },
 "nbformat": 4,
 "nbformat_minor": 2
}
