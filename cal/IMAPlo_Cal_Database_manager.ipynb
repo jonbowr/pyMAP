{
 "cells": [
  {
   "cell_type": "markdown",
   "id": "a32acbdc",
   "metadata": {},
   "source": [
    "# IMAPlo Calibration Repository Manager\n",
    "\n",
    "This is a basic tool to quick generate test repositorys used for IMAPlo calibration testing"
   ]
  },
  {
   "cell_type": "code",
   "execution_count": 1,
   "id": "045e83b2",
   "metadata": {},
   "outputs": [],
   "source": [
    "import pandas as pd\n",
    "import pyMAP as pm\n",
    "import numpy as np\n",
    "%matplotlib notebook"
   ]
  },
  {
   "cell_type": "markdown",
   "id": "1f929688",
   "metadata": {},
   "source": [
    "## Generate a New Blank Test Repository"
   ]
  },
  {
   "cell_type": "code",
   "execution_count": 25,
   "id": "889056d7",
   "metadata": {},
   "outputs": [],
   "source": [
    "pm.tools.cal.db_init(loc = './',\n",
    "                        instrument_version = 'EMvxx',\n",
    "                        test_name = 'testing setup tools',\n",
    "                        test_index = 'T999',\n",
    "                        test_facility = 'theinternet',)"
   ]
  },
  {
   "cell_type": "markdown",
   "id": "d4aa9f1e",
   "metadata": {},
   "source": [
    "After initializing a cal repo make sure you:\n",
    "- update the auto generated readme file\n",
    "- populated a new onenote test tab\n",
    "\n",
    "Will also need to add test credentials to the database ingestion log"
   ]
  },
  {
   "cell_type": "code",
   "execution_count": null,
   "id": "25b22e44",
   "metadata": {},
   "outputs": [],
   "source": []
  }
 ],
 "metadata": {
  "kernelspec": {
   "display_name": "Python 3 (ipykernel)",
   "language": "python",
   "name": "python3"
  },
  "language_info": {
   "codemirror_mode": {
    "name": "ipython",
    "version": 3
   },
   "file_extension": ".py",
   "mimetype": "text/x-python",
   "name": "python",
   "nbconvert_exporter": "python",
   "pygments_lexer": "ipython3",
   "version": "3.9.16"
  }
 },
 "nbformat": 4,
 "nbformat_minor": 5
}
